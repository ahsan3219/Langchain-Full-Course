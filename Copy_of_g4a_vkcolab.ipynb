{
  "nbformat": 4,
  "nbformat_minor": 0,
  "metadata": {
    "colab": {
      "provenance": [],
      "gpuType": "T4",
      "include_colab_link": true
    },
    "kernelspec": {
      "name": "python3",
      "display_name": "Python 3"
    },
    "language_info": {
      "name": "python"
    },
    "accelerator": "GPU"
  },
  "cells": [
    {
      "cell_type": "markdown",
      "metadata": {
        "id": "view-in-github",
        "colab_type": "text"
      },
      "source": [
        "<a href=\"https://colab.research.google.com/github/ahsan3219/Langchain-Full-Course/blob/main/Copy_of_g4a_vkcolab.ipynb\" target=\"_parent\"><img src=\"https://colab.research.google.com/assets/colab-badge.svg\" alt=\"Open In Colab\"/></a>"
      ]
    },
    {
      "cell_type": "code",
      "execution_count": null,
      "metadata": {
        "id": "k4AOPD1tYEh1"
      },
      "outputs": [],
      "source": [
        "!pip install gpt4all"
      ]
    },
    {
      "cell_type": "code",
      "source": [
        "!apt install libvulkan1"
      ],
      "metadata": {
        "id": "69YIHKVMYvCn"
      },
      "execution_count": null,
      "outputs": []
    },
    {
      "cell_type": "code",
      "source": [
        "# install nvidia vulkan driver\n",
        "!apt install libnvidia-gl-525-server"
      ],
      "metadata": {
        "id": "PeUXlVckYxZT"
      },
      "execution_count": null,
      "outputs": []
    },
    {
      "cell_type": "code",
      "source": [
        "import gpt4all"
      ],
      "metadata": {
        "id": "RTpS-gdpYJLQ"
      },
      "execution_count": null,
      "outputs": []
    },
    {
      "cell_type": "code",
      "source": [
        "try:\n",
        "  m = gpt4all.GPT4All('orca-mini-7b.ggmlv3.q4_0.bin', device='gpu')\n",
        "  print('Loaded for GPU')\n",
        "except:\n",
        "  m = gpt4all.GPT4All('orca-mini-7b.ggmlv3.q4_0.bin', device='cpu')\n",
        "  print('Loaded for CPU')"
      ],
      "metadata": {
        "colab": {
          "base_uri": "https://localhost:8080/"
        },
        "id": "bqv29HLfYRcG",
        "outputId": "791207fd-f4d4-4d75-a007-42f886ca111f"
      },
      "execution_count": null,
      "outputs": [
        {
          "output_type": "stream",
          "name": "stderr",
          "text": [
            "100%|██████████| 3.79G/3.79G [00:17<00:00, 220MiB/s]\n"
          ]
        },
        {
          "output_type": "stream",
          "name": "stdout",
          "text": [
            "Model downloaded at:  /root/.cache/gpt4all/orca-mini-7b.ggmlv3.q4_0.bin\n",
            "Loaded for GPU\n"
          ]
        }
      ]
    },
    {
      "cell_type": "code",
      "source": [
        "import time\n",
        "first_token = None\n",
        "n_tokens = 0\n",
        "with m.chat_session():\n",
        "  for token in m.generate('How do I bake a cake?', temp=0, n_predict=500, streaming=True):\n",
        "    n_tokens = n_tokens + 1\n",
        "    if first_token is None:\n",
        "      first_token = time.time()\n",
        "    last_token = time.time()\n",
        "    print(token, end='')"
      ],
      "metadata": {
        "colab": {
          "base_uri": "https://localhost:8080/"
        },
        "id": "rBFUBGwjYYCI",
        "outputId": "1a0a08ae-d211-42f6-eab9-356c110db71f"
      },
      "execution_count": null,
      "outputs": [
        {
          "output_type": "stream",
          "name": "stdout",
          "text": [
            " Sure, here is a step-by-step guide to baking a cake:\n",
            "\n",
            "Ingredients:\n",
            "- 2 cups all-purpose flour\n",
            "- 2 teaspoons baking powder\n",
            "- 1/2 teaspoon salt\n",
            "- 1 cup unsalted butter, at room temperature\n",
            "- 1 1/2 cups granulated sugar\n",
            "- 3 large eggs\n",
            "- 1 tablespoon vanilla extract\n",
            "- 1 cup whole milk\n",
            "\n",
            "Instructions:\n",
            "\n",
            "1. Preheat the oven to 350°F (175°C). Grease and flour a 9-inch cake pan.\n",
            "2. In a medium bowl, whisk together the flour, baking powder, and salt. Set aside.\n",
            "3. In a large mixing bowl, cream the butter and sugar until light and fluffy.\n",
            "4. Add the eggs one at a time, beating well after each addition. Stir in the vanilla extract.\n",
            "5. Gradually add the flour mixture to the butter mixture, alternating with the milk, and mix until just combined.\n",
            "6. Pour the batter into the prepared pan and smooth out the surface with a spatula.\n",
            "7. Bake for 30-35 minutes or until a toothpick inserted in the center of the cake comes out clean.\n",
            "8. Remove from oven and let cool completely before slicing and serving.\n",
            "\n",
            "Enjoy your delicious homemade cake!"
          ]
        }
      ]
    },
    {
      "cell_type": "code",
      "source": [
        "last_token - first_token, (n_tokens - 1) / (last_token - first_token)"
      ],
      "metadata": {
        "colab": {
          "base_uri": "https://localhost:8080/"
        },
        "id": "WXIxi_1pfNQS",
        "outputId": "c2d7bfcb-c8d3-4799-fab8-56986b5b11e4"
      },
      "execution_count": null,
      "outputs": [
        {
          "output_type": "execute_result",
          "data": {
            "text/plain": [
              "(24.79577350616455, 12.179495022606126)"
            ]
          },
          "metadata": {},
          "execution_count": 7
        }
      ]
    },
    {
      "cell_type": "code",
      "source": [
        "n_tokens"
      ],
      "metadata": {
        "colab": {
          "base_uri": "https://localhost:8080/"
        },
        "id": "p7C-AAXLhO6b",
        "outputId": "360371cd-93ad-44c0-856c-37f3c54a15a3"
      },
      "execution_count": null,
      "outputs": [
        {
          "output_type": "execute_result",
          "data": {
            "text/plain": [
              "303"
            ]
          },
          "metadata": {},
          "execution_count": 8
        }
      ]
    },
    {
      "cell_type": "code",
      "source": [],
      "metadata": {
        "id": "Sglj7Gcfk6bI"
      },
      "execution_count": null,
      "outputs": []
    }
  ]
}